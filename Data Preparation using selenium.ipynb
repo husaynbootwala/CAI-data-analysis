{
 "cells": [
  {
   "cell_type": "markdown",
   "id": "3cafaf41",
   "metadata": {},
   "source": [
    "# CAI Data prep code"
   ]
  },
  {
   "cell_type": "code",
   "execution_count": 1,
   "id": "79b8e8f5",
   "metadata": {},
   "outputs": [],
   "source": [
    "#importing necessary libraries\n",
    "import os                   #to create new directories\n",
    "import shutil               #to delete directories\n",
    "import pandas as pd         #to convert excel data into dataframes into lists\n",
    "from Bio import SeqIO       #to read/write the fasta files\n",
    "import xlwt                 #to open and write into excel files .xls\n",
    "from xlwt import Workbook   #to save excel files .xls\n",
    "from openpyxl import load_workbook  #to edit pre existing excel files .xlsx\n",
    "#from matplotlib import pyplot as plt    #to plot graphs\n",
    "#import numpy as np                      #to deal with arrays"
   ]
  },
  {
   "cell_type": "code",
   "execution_count": 55,
   "id": "ec3c9055",
   "metadata": {},
   "outputs": [
    {
     "name": "stdout",
     "output_type": "stream",
     "text": [
      "0       rfbC\n",
      "1       yehE\n",
      "2        tmk\n",
      "3       yadG\n",
      "4       sthA\n",
      "        ... \n",
      "4759    fdoH\n",
      "4760    yfiM\n",
      "4761    guaB\n",
      "4762    uxuA\n",
      "4763    ariR\n",
      "Name: Gene Name, Length: 4764, dtype: object\n",
      "[1, 'yehE', 'b2112', 2192515.0, 2192796.0, 'DUF2574 domain-containing protein YehE', 'yehE', '93', '93 AA', 'Uncharacterized protein YehE', 'P33344']\n"
     ]
    }
   ],
   "source": [
    "dataframe = pd.read_excel(r\"C:\\Users\\husay\\Desktop\\Biotech\\List of Genes (E.Coli K-12).xlsx\")\n",
    "gene_list=dataframe.values.tolist()"
   ]
  },
  {
   "cell_type": "code",
   "execution_count": null,
   "id": "17a4e51e",
   "metadata": {},
   "outputs": [],
   "source": [
    "from selenium import webdriver\n",
    "from selenium.webdriver.chrome.options import Options\n",
    "from selenium.webdriver.chrome.service import Service\n",
    "from selenium.webdriver.common.keys import Keys\n",
    "from bs4 import BeautifulSoup\n",
    "import time\n",
    "\n",
    "#load excel file\n",
    "workbook = load_workbook(filename=r\"C:\\Users\\husay\\Desktop\\Biotech\\List of Genes (E.Coli K-12).xlsx\")\n",
    "#open workbook\n",
    "sheet = workbook.active\n",
    "num_loop=1\n",
    "for gene in gene_list:\n",
    "    #print(num_loop)\n",
    "    if num_loop%10==0:\n",
    "        workbook.save(filename=r\"C:\\Users\\husay\\Desktop\\Biotech\\List of Genes (E.Coli K-12).xlsx\")\n",
    "    \n",
    "    gene_name=gene[1]\n",
    "    \n",
    "    #--| Setup\n",
    "    options = Options()\n",
    "    #options.add_argument(\"--headless\")\n",
    "    #options.add_argument(\"--window-size=1980,1020\")\n",
    "    service=Service(executable_path=r'C:\\Windows\\chromedriver.exe')\n",
    "    browser = webdriver.Chrome(service=service, options=options)\n",
    "    #--| Parse or automation\n",
    "    url = \"https://www.uniprot.org/uniprotkb?query=\"+str(gene_name)\n",
    "    browser.get(url)\n",
    "    time.sleep(2)\n",
    " \n",
    "    # Use Bs to Parse\n",
    "    soup = BeautifulSoup(browser.page_source, 'html5lib')\n",
    "    \n",
    "    #use find and find_all to get to the table\n",
    "    first = soup.find('table', attrs={'class':'hotjar-margin Anr5j data-table'})\n",
    "    if first==None: continue\n",
    "    if not first==None:\n",
    "        second= first.find_all('tr')\n",
    "    #print(len(second))\n",
    "    #browser.close()\n",
    "    if second==None: continue\n",
    "\n",
    "    strain_check=False\n",
    "    # here [j] is the row no.\n",
    "    #The web scraper gets the first 25 rows of the table\n",
    "    for j in range(len(second)):\n",
    "        #checking if gene name is correct or not\n",
    "        if second[j]==None:break\n",
    "        c=second[j].find_all('span', attrs={'class':'FR3zN'})\n",
    "        cc=str(c)      #convert bs.element.tag to string\n",
    "        gene_check = (gene_name==cc[21:-8])\n",
    "    \n",
    "        #using find_all method to get all 'td' ie. table elements\n",
    "        #s and c and dd are variables used\n",
    "        c=second[j].find_all('td')\n",
    "        info_gene=[] #to store info ['entry','entry_name','protein_name','gene_names','organism','length','type of protein']\n",
    "        for s in c:\n",
    "            #converting bs4.element.tag to string\n",
    "            dd=str(s)\n",
    "            #ignoring empty strings\n",
    "            if not dd=='[]':\n",
    "                #finding indices of < and > to get info in middle\n",
    "                indices1 = [i for i in range(len(dd)) if dd[i] == '<']\n",
    "                indices2 = [i for i in range(len(dd)) if dd[i] == '>']\n",
    "                for i in range(len(indices1)-1):\n",
    "                    if indices1[i+1]-indices2[i]!=1:\n",
    "                        info_gene.append(dd[indices2[i]+1:indices1[i+1]])\n",
    "                        \n",
    "        #Checking that organism is E.coli\n",
    "            \n",
    "        if 'Escherichia coli (strain K12)' in info_gene and gene_check==True:\n",
    "            strain_check=True\n",
    "            break; #exit loop because we are on the correct row\n",
    "    #print(info_gene)\n",
    "    #modify the desired cell\n",
    "    if strain_check==False:\n",
    "        continue\n",
    "    sheet[\"H\"+str(gene_list.index(gene)+2)] = (info_gene[-1][:-3])   #no. of aa\n",
    "    #protein_name=str(info_gene[2])\n",
    "    sheet[\"J\"+str(gene_list.index(gene)+2)] = info_gene[2]   #name of protein\n",
    "    sheet[\"K\"+str(gene_list.index(gene)+2)] = info_gene[0]    #entry tag\n",
    "    \n",
    "    #--| Setup\n",
    "    options = Options()\n",
    "    #options.add_argument(\"--headless\")\n",
    "    #options.add_argument(\"--window-size=1980,1020\")\n",
    "    service=Service(executable_path=r'C:\\Windows\\chromedriver.exe')\n",
    "    browser = webdriver.Chrome(service=service, options=options)\n",
    "    #--| Parse or automation\n",
    "    url = \"https://www.uniprot.org/uniprotkb/\"+str(info_gene[0])+\"/entry#subcellular_location\"\n",
    "    browser.get(url)\n",
    "    time.sleep(2)\n",
    " \n",
    "    # Use Bs to Parse\n",
    "    soup = BeautifulSoup(browser.page_source, 'html5lib')\n",
    "    #attrs={'href':'/locations/SL-0037'}\n",
    "    first = soup.find_all(attrs={'taxid':'83333'})\n",
    "    #finding indices of < and > to get info in middle\n",
    "    dd=str(first)\n",
    "    indices1 = [i for i in range(len(dd)) if dd[i] == '<']\n",
    "    indices2 = [i for i in range(len(dd)) if dd[i] == '>']\n",
    "    type_found=0\n",
    "    for i in range(len(indices1)-1):\n",
    "        if type_found==1: break\n",
    "        if indices1[i+1]-indices2[i]!=1:\n",
    "            type_found=1\n",
    "            info_gene.append(dd[indices2[i]+1:indices1[i+1]])\n",
    "            print(dd[indices2[i]+1:indices1[i+1]],'\\n')\n",
    "    \n",
    "    sheet[\"I\"+str(gene_list.index(gene)+2)] = (info_gene[-1])   #type of protein\n",
    "    #print(info_gene,'\\n')\n",
    "    num_loop+=1\n",
    "    "
   ]
  },
  {
   "cell_type": "code",
   "execution_count": 15,
   "id": "f95671b4",
   "metadata": {},
   "outputs": [],
   "source": [
    "#save the file\n",
    "workbook.save(filename=r\"C:\\Users\\husay\\Desktop\\Biotech\\List of Genes (E.Coli K-12).xlsx\")"
   ]
  },
  {
   "cell_type": "code",
   "execution_count": 2,
   "id": "cfbc3aea",
   "metadata": {},
   "outputs": [
    {
     "name": "stdout",
     "output_type": "stream",
     "text": [
      "      Index Gene Name Accession-1  Left End Position  Right End Position  \\\n",
      "0         1      rfbC       b2038          2109581.0           2110138.0   \n",
      "1         2       tmk       b1098          1155124.0           1155765.0   \n",
      "2         3      yadG       b0127           142779.0            143705.0   \n",
      "3         4      sthA       b3962          4159390.0           4160790.0   \n",
      "4         5       ndh       b1109          1166085.0           1167389.0   \n",
      "...     ...       ...         ...                ...                 ...   \n",
      "2559   2560      yihV       b3883          4073739.0           4074635.0   \n",
      "2560   2561      ycjV       b1318          1380821.0           1381789.0   \n",
      "2561   2562      galF       b2042          2113434.0           2114327.0   \n",
      "2562   2563      fdoH       b3893          4081857.0           4082759.0   \n",
      "2563   2564      guaB       b2508          2632604.0           2634070.0   \n",
      "\n",
      "                                                Product Map to E.coli Genome  \\\n",
      "0                   dTDP-4-dehydrorhamnose 35-epimerase                  NaN   \n",
      "1                        Tmk [component of dTMP kinase]                  tmk   \n",
      "2     putative ABC transporter ATP-binding protein Y...                 yadG   \n",
      "3     soluble pyridine nucleotide transhydrogenase [...                 sthA   \n",
      "4                        NADH:quinone oxidoreductase II                  ndh   \n",
      "...                                                 ...                  ...   \n",
      "2559                     6-deoxy-6-sulfofructose kinase                 yihV   \n",
      "2560  putative ABC transporter ATP-binding protein YcjV                 ycjV   \n",
      "2561  UTP:glucose-1-phosphate uridylyltransferase lo...                 galF   \n",
      "2562  formate dehydrogenase O subunit β [component o...                 fdoH   \n",
      "2563  inosine 5'-monophosphate dehydrogenase [compon...                 guaB   \n",
      "\n",
      "      No. of aa      Type of Protein  \\\n",
      "0           185              cytosol   \n",
      "1           213            cytoplasm   \n",
      "2           308      plasma membrane   \n",
      "3           466            Cytoplasm   \n",
      "4           434  Cell inner membrane   \n",
      "...         ...                  ...   \n",
      "2559        298              cytosol   \n",
      "2560        360             membrane   \n",
      "2561        297              cytosol   \n",
      "2562        300        Cell membrane   \n",
      "2563        488              cytosol   \n",
      "\n",
      "                                        Name of Protein Entry tag  \\\n",
      "0                   dTDP-4-dehydrorhamnose 35-epimerase    P37745   \n",
      "1                                    Thymidylate kinase    P0A720   \n",
      "2     Uncharacterized ABC transporter ATP-binding pr...    P36879   \n",
      "3          Soluble pyridine nucleotide transhydrogenase    P27306   \n",
      "4                   Type II NADH:quinone oxidoreductase    P00393   \n",
      "...                                                 ...       ...   \n",
      "2559                               Sulfofructose kinase    P32143   \n",
      "2560  Putative uncharacterized ABC transporter ATP-b...    P77481   \n",
      "2561       UTP--glucose-1-phosphate uridylyltransferase    P0AAB6   \n",
      "2562        Formate dehydrogenase-O iron-sulfur subunit    P0AAJ5   \n",
      "2563             Inosine-5'-monophosphate dehydrogenase    P0ADG7   \n",
      "\n",
      "      No. of Strains  \n",
      "0               1529  \n",
      "1               2831  \n",
      "2               1564  \n",
      "3               2772  \n",
      "4               2672  \n",
      "...              ...  \n",
      "2559            2289  \n",
      "2560             196  \n",
      "2561            3000  \n",
      "2562            2736  \n",
      "2563            3055  \n",
      "\n",
      "[2564 rows x 12 columns]\n"
     ]
    }
   ],
   "source": [
    "dataframe = pd.read_excel(r\"C:\\Users\\husay\\Desktop\\Biotech\\New_final_list.xlsx\")\n",
    "print(dataframe)\n",
    "gene_list=dataframe.values.tolist()"
   ]
  },
  {
   "cell_type": "code",
   "execution_count": 3,
   "id": "40a9d126",
   "metadata": {},
   "outputs": [
    {
     "name": "stdout",
     "output_type": "stream",
     "text": [
      "[1, 'rfbC', 'b2038', 2109581.0, 2110138.0, 'dTDP-4-dehydrorhamnose 35-epimerase', nan, 185, 'cytosol', 'dTDP-4-dehydrorhamnose 35-epimerase', 'P37745', 1529]\n"
     ]
    }
   ],
   "source": [
    "print(gene_list[0])"
   ]
  },
  {
   "cell_type": "code",
   "execution_count": 4,
   "id": "5d69fddb",
   "metadata": {},
   "outputs": [],
   "source": [
    "protein_type = {''}\n",
    "for i in range(len(gene_list)):\n",
    "    protein_type.add(gene_list[i][8])\n",
    "    #print(gene_list[i][8])"
   ]
  },
  {
   "cell_type": "code",
   "execution_count": 5,
   "id": "cef53933",
   "metadata": {},
   "outputs": [
    {
     "name": "stdout",
     "output_type": "stream",
     "text": [
      "{'', 'outer membrane', 'host outer membrane', 'Cell membrane', 'Membrane', 'pilus', 'cytoplasm ', 'Cytoplasm nucleoid', 'Bacterial flagellum basal body', 'cell pole', 'Bacterial microcompartment', 'cytoplasmic replication fork', 'Cytoplasm', 'bacterial nucleoid', 'cytosol', 'Cytoplasm cytoskeleton', 'Cell inner membrane', 'plasma membrane', 'outer membrane-bounded periplasmic space', 'cytosolic ribosome', 'Periplasm', 'cytoplasmic side of plasma membrane', 'bacterial-type flagellum hook', 'cell outer membrane', 'Cell outer membrane', 'membrane', 'chromosome', 'cytoplasm', 'Cytoplasm cytosol', 'Fimbrium', 'bacterial-type flagellum', 'Secreted'}\n",
      "<class 'set'>\n"
     ]
    }
   ],
   "source": [
    "print((protein_type))\n",
    "pt=protein_type.copy()\n",
    "print(type(pt))"
   ]
  },
  {
   "cell_type": "code",
   "execution_count": 6,
   "id": "ce90cb56",
   "metadata": {},
   "outputs": [],
   "source": [
    "for i in pt:\n",
    "    if str(type(i))==\"<class 'str'>\":\n",
    "        if 'AA' in i:\n",
    "            protein_type.remove(i)"
   ]
  },
  {
   "cell_type": "code",
   "execution_count": 84,
   "id": "ca9b5073",
   "metadata": {},
   "outputs": [],
   "source": [
    "location_of_protein =['Membrane', 'Cell outer membrane','pilus', 'cytoplasmic replication fork','Bacterial flagellum basal body',\n",
    "'host outer membrane','bacterial nucleoid', 'plasma membrane', 'Cytoplasm, nucleoid','Periplasm','Cytoplasm',\n",
    "'Fimbrium','cell outer membrane', 'replisome','outer membrane','Cytoplasm, cytoskeleton','Bacterial microcompartment',\n",
    "'Cell membrane', 'Cytoplasm, cytosol','cytosol','outer membrane-bounded periplasmic space','membrane',\n",
    "'bacterial-type flagellum hook',\n",
    "'cytoplasmic side of plasma membrane', 'cytosolic ribosome','cytoplasm','Cell inner membrane','bacterial-type flagellum']"
   ]
  },
  {
   "cell_type": "code",
   "execution_count": 85,
   "id": "73c4c46d",
   "metadata": {},
   "outputs": [
    {
     "name": "stdout",
     "output_type": "stream",
     "text": [
      "['Membrane', 'Cell outer membrane', 'pilus', 'cytoplasmic replication fork', 'Bacterial flagellum basal body', 'host outer membrane', 'bacterial nucleoid', 'plasma membrane', 'Cytoplasm, nucleoid', 'Periplasm', 'Cytoplasm', 'Fimbrium', 'cell outer membrane', 'replisome', 'outer membrane', 'Cytoplasm, cytoskeleton', 'Bacterial microcompartment', 'Cell membrane', 'Cytoplasm, cytosol', 'cytosol', 'outer membrane-bounded periplasmic space', 'membrane', 'cytoplasmic side of plasma membrane', 'cytosolic ribosome', 'cytoplasm', 'Cell inner membrane']\n"
     ]
    }
   ],
   "source": [
    "print(location_of_protein)"
   ]
  },
  {
   "cell_type": "code",
   "execution_count": 78,
   "id": "b98a4f6e",
   "metadata": {},
   "outputs": [],
   "source": [
    "drop_index=[] #these are the indices which needed to be removed from the excel file\n",
    "for i in range(len(gene_list)):\n",
    "    if not gene_list[i][8] in plist:\n",
    "        drop_index.append(i)"
   ]
  },
  {
   "cell_type": "code",
   "execution_count": 80,
   "id": "616b9cd3",
   "metadata": {},
   "outputs": [
    {
     "name": "stdout",
     "output_type": "stream",
     "text": [
      "      Unnamed: 0 Gene Name Accession-1  Left End Position  Right End Position  \\\n",
      "0              0      rfbC       b2038          2109581.0           2110138.0   \n",
      "2              2       tmk       b1098          1155124.0           1155765.0   \n",
      "3              3      yadG       b0127           142779.0            143705.0   \n",
      "4              4      sthA       b3962          4159390.0           4160790.0   \n",
      "5              5       ndh       b1109          1166085.0           1167389.0   \n",
      "...          ...       ...         ...                ...                 ...   \n",
      "4752        4752      yihV       b3883          4073739.0           4074635.0   \n",
      "4757        4757      ycjV       b1318          1380821.0           1381789.0   \n",
      "4758        4758      galF       b2042          2113434.0           2114327.0   \n",
      "4759        4759      fdoH       b3893          4081857.0           4082759.0   \n",
      "4761        4761      guaB       b2508          2632604.0           2634070.0   \n",
      "\n",
      "                                                Product Map to E.coli Genome  \\\n",
      "0                  dTDP-4-dehydrorhamnose 3,5-epimerase                  NaN   \n",
      "2                        Tmk [component of dTMP kinase]                  tmk   \n",
      "3     putative ABC transporter ATP-binding protein Y...                 yadG   \n",
      "4     soluble pyridine nucleotide transhydrogenase [...                 sthA   \n",
      "5                        NADH:quinone oxidoreductase II                  ndh   \n",
      "...                                                 ...                  ...   \n",
      "4752                     6-deoxy-6-sulfofructose kinase                 yihV   \n",
      "4757  putative ABC transporter ATP-binding protein YcjV                 ycjV   \n",
      "4758  UTP:glucose-1-phosphate uridylyltransferase, l...                 galF   \n",
      "4759  formate dehydrogenase O subunit β [component o...                 fdoH   \n",
      "4761  inosine 5'-monophosphate dehydrogenase [compon...                 guaB   \n",
      "\n",
      "     No. of aa                                    Type of Protein  \\\n",
      "0          185                                            cytosol   \n",
      "2          213                                          cytoplasm   \n",
      "3          308                                    plasma membrane   \n",
      "4          466                                          Cytoplasm   \n",
      "5          434                                Cell inner membrane   \n",
      "...        ...                                                ...   \n",
      "4752       298                                            cytosol   \n",
      "4757       360  ATP-binding cassette (ABC) transporter complex...   \n",
      "4758       297                                            cytosol   \n",
      "4759       300                                      Cell membrane   \n",
      "4761       488                                            cytosol   \n",
      "\n",
      "                                        Name of Protein Entry tag  \n",
      "0                  dTDP-4-dehydrorhamnose 3,5-epimerase    P37745  \n",
      "2                                    Thymidylate kinase    P0A720  \n",
      "3     Uncharacterized ABC transporter ATP-binding pr...    P36879  \n",
      "4          Soluble pyridine nucleotide transhydrogenase    P27306  \n",
      "5                   Type II NADH:quinone oxidoreductase    P00393  \n",
      "...                                                 ...       ...  \n",
      "4752                               Sulfofructose kinase    P32143  \n",
      "4757  Putative uncharacterized ABC transporter ATP-b...    P77481  \n",
      "4758       UTP--glucose-1-phosphate uridylyltransferase    P0AAB6  \n",
      "4759        Formate dehydrogenase-O iron-sulfur subunit    P0AAJ5  \n",
      "4761             Inosine-5'-monophosphate dehydrogenase    P0ADG7  \n",
      "\n",
      "[2573 rows x 11 columns]\n"
     ]
    }
   ],
   "source": [
    "df1=dataframe.drop(dataframe.index[drop_index])\n",
    "#print(df1)"
   ]
  },
  {
   "cell_type": "code",
   "execution_count": 81,
   "id": "e20eac2f",
   "metadata": {},
   "outputs": [
    {
     "name": "stderr",
     "output_type": "stream",
     "text": [
      "C:\\Users\\husay\\AppData\\Local\\Temp\\ipykernel_8440\\3678194010.py:8: FutureWarning: save is not part of the public API, usage can give unexpected results and will be removed in a future version\n",
      "  datatoexcel.save()\n"
     ]
    }
   ],
   "source": [
    "# writing to Excel\n",
    "datatoexcel = pd.ExcelWriter(r'C:\\Users\\husay\\Desktop\\Biotech\\Final_list.xlsx')\n",
    "  \n",
    "# write DataFrame to excel\n",
    "df1.to_excel(datatoexcel)\n",
    "  \n",
    "# save the excel\n",
    "datatoexcel.save()"
   ]
  },
  {
   "cell_type": "code",
   "execution_count": 92,
   "id": "3a4aed8c",
   "metadata": {},
   "outputs": [
    {
     "name": "stdout",
     "output_type": "stream",
     "text": [
      "      Index Gene Name Accession-1  Left End Position  Right End Position  \\\n",
      "0         1      rfbC       b2038          2109581.0           2110138.0   \n",
      "1         2       tmk       b1098          1155124.0           1155765.0   \n",
      "2         3      yadG       b0127           142779.0            143705.0   \n",
      "3         4      sthA       b3962          4159390.0           4160790.0   \n",
      "4         5       ndh       b1109          1166085.0           1167389.0   \n",
      "...     ...       ...         ...                ...                 ...   \n",
      "2559   2560      yihV       b3883          4073739.0           4074635.0   \n",
      "2560   2561      ycjV       b1318          1380821.0           1381789.0   \n",
      "2561   2562      galF       b2042          2113434.0           2114327.0   \n",
      "2562   2563      fdoH       b3893          4081857.0           4082759.0   \n",
      "2563   2564      guaB       b2508          2632604.0           2634070.0   \n",
      "\n",
      "                                                Product Map to E.coli Genome  \\\n",
      "0                   dTDP-4-dehydrorhamnose 35-epimerase                  NaN   \n",
      "1                        Tmk [component of dTMP kinase]                  tmk   \n",
      "2     putative ABC transporter ATP-binding protein Y...                 yadG   \n",
      "3     soluble pyridine nucleotide transhydrogenase [...                 sthA   \n",
      "4                        NADH:quinone oxidoreductase II                  ndh   \n",
      "...                                                 ...                  ...   \n",
      "2559                     6-deoxy-6-sulfofructose kinase                 yihV   \n",
      "2560  putative ABC transporter ATP-binding protein YcjV                 ycjV   \n",
      "2561  UTP:glucose-1-phosphate uridylyltransferase lo...                 galF   \n",
      "2562  formate dehydrogenase O subunit β [component o...                 fdoH   \n",
      "2563  inosine 5'-monophosphate dehydrogenase [compon...                 guaB   \n",
      "\n",
      "      No. of aa      Type of Protein  \\\n",
      "0           185              cytosol   \n",
      "1           213            cytoplasm   \n",
      "2           308      plasma membrane   \n",
      "3           466            Cytoplasm   \n",
      "4           434  Cell inner membrane   \n",
      "...         ...                  ...   \n",
      "2559        298              cytosol   \n",
      "2560        360             membrane   \n",
      "2561        297              cytosol   \n",
      "2562        300        Cell membrane   \n",
      "2563        488              cytosol   \n",
      "\n",
      "                                        Name of Protein Entry tag  \n",
      "0                   dTDP-4-dehydrorhamnose 35-epimerase    P37745  \n",
      "1                                    Thymidylate kinase    P0A720  \n",
      "2     Uncharacterized ABC transporter ATP-binding pr...    P36879  \n",
      "3          Soluble pyridine nucleotide transhydrogenase    P27306  \n",
      "4                   Type II NADH:quinone oxidoreductase    P00393  \n",
      "...                                                 ...       ...  \n",
      "2559                               Sulfofructose kinase    P32143  \n",
      "2560  Putative uncharacterized ABC transporter ATP-b...    P77481  \n",
      "2561       UTP--glucose-1-phosphate uridylyltransferase    P0AAB6  \n",
      "2562        Formate dehydrogenase-O iron-sulfur subunit    P0AAJ5  \n",
      "2563             Inosine-5'-monophosphate dehydrogenase    P0ADG7  \n",
      "\n",
      "[2564 rows x 11 columns]\n"
     ]
    }
   ],
   "source": [
    "dataframe = pd.read_excel(r\"C:\\Users\\husay\\Desktop\\Biotech\\New_final_list.xlsx\")\n",
    "print(dataframe)\n",
    "gene_list=dataframe.values.tolist()"
   ]
  },
  {
   "cell_type": "code",
   "execution_count": 102,
   "id": "8e5951c6",
   "metadata": {},
   "outputs": [
    {
     "name": "stdout",
     "output_type": "stream",
     "text": [
      "Uncharacterized ABC transporter ATP-binding protein YadG\n"
     ]
    }
   ],
   "source": [
    "print(gene_list[2][9])"
   ]
  },
  {
   "cell_type": "code",
   "execution_count": null,
   "id": "73048b53",
   "metadata": {},
   "outputs": [],
   "source": []
  }
 ],
 "metadata": {
  "kernelspec": {
   "display_name": "Python 3 (ipykernel)",
   "language": "python",
   "name": "python3"
  },
  "language_info": {
   "codemirror_mode": {
    "name": "ipython",
    "version": 3
   },
   "file_extension": ".py",
   "mimetype": "text/x-python",
   "name": "python",
   "nbconvert_exporter": "python",
   "pygments_lexer": "ipython3",
   "version": "3.11.3"
  }
 },
 "nbformat": 4,
 "nbformat_minor": 5
}
