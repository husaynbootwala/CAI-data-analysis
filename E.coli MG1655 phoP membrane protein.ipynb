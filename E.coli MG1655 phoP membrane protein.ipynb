{
 "cells": [
  {
   "cell_type": "markdown",
   "id": "4a9e0019",
   "metadata": {},
   "source": [
    "E.coli MG1655"
   ]
  },
  {
   "cell_type": "code",
   "execution_count": 10,
   "id": "1d65c597",
   "metadata": {},
   "outputs": [],
   "source": [
    "data= open(r\"C:\\Users\\husay\\OneDrive\\Desktop\\Biotech\\ncbi_dataset\\ncbi_dataset\\data\\gene.fna\")\n",
    "seq= data.read() #open the fasta file and read the sequence\n",
    "data.close()\n",
    "#find a way to directly access from website (via ftp) and not by manually downloading everything"
   ]
  },
  {
   "cell_type": "code",
   "execution_count": 11,
   "id": "0e502203",
   "metadata": {},
   "outputs": [
    {
     "name": "stdout",
     "output_type": "stream",
     "text": [
      ">NC_000913.3:c1190447-1189776 phoP [organism=Escherichia coli str. K-12 substr. MG1655] [GeneID=945697] [chromosome=]\n",
      "ATGCGCGTACTGGTTGTTGAAGACAATGCGTTGTTACGTCACCACCTTAAAGTTCAGATTCAGGATGCTG\n",
      "GTCATCAGGTCGATGACGCAGAAGATGCCAAAGAAGCCGATTATTATCTCAATGAACATATACCGGATAT\n",
      "TGCGATTGTCGATCTCGGATTGCCAGACGAGGACGGTCTGTCACTGATTCGCCGCTGGCGTAGCAACGAT\n",
      "GTTTCACTGCCGATTCTGGTATTAACCGCCCGTGAAAGCTGGCAGGACAAAGTCGAAGTATTAAGTGCCG\n",
      "GTGCTGATGATTATGTGACTAAACCGTTTCATATTGAAGAGGTGATGGCGCGAATGCAGGCATTAATGCG\n",
      "GCGTAATAGCGGTCTGGCTTCACAGGTCATTTCGCTCCCCCCGTTTCAGGTTGATCTCTCTCGCCGTGAA\n",
      "TTATCTATTAATGACGAAGTGATCAAACTGACCGCGTTCGAATACACTATTATGGAAACGTTGATACGCA\n",
      "ATAATGGCAAAGTGGTCAGCAAAGATTCGTTAATGCTCCAACTCTATCCGGATGCGGAGCTGCGGGAAAG\n",
      "CCATACCATTGATGTACTGATGGGACGTCTGCGCAAAAAAATTCAGGCACAATATCCCCAAGAAGTGATT\n",
      "ACCACCGTTCGCGGCCAGGGCTATCTGTTCGAATTGCGCTGA\n",
      "\n"
     ]
    }
   ],
   "source": [
    "print(seq)"
   ]
  },
  {
   "cell_type": "code",
   "execution_count": 49,
   "id": "89a3d202",
   "metadata": {},
   "outputs": [
    {
     "name": "stdout",
     "output_type": "stream",
     "text": [
      "672\n"
     ]
    }
   ],
   "source": [
    "phop_seq=seq[118:] #remove the first line of meta data\n",
    "phop_seq=phop_seq.replace(\"\\n\",\"\")#replace unnecessary characters\n",
    "print(len(phop_seq))"
   ]
  },
  {
   "cell_type": "code",
   "execution_count": 26,
   "id": "e50e7cec",
   "metadata": {},
   "outputs": [
    {
     "name": "stdout",
     "output_type": "stream",
     "text": [
      "[['TTT', 1.0], ['TTC', 0.7241379310344828], ['TTA', 0.29787234042553196], ['TTG', 0.2765957446808511], ['TAT', 1.0], ['TAC', 0.6949152542372882], ['TAA', 1.0], ['TAG', 0.14754098360655737], ['CTT', 0.2553191489361702], ['CTC', 0.21276595744680854], ['CTA', 0.08510638297872342], ['CTG', 1.0], ['CAT', 1.0], ['CAC', 0.7543859649122807], ['CAA', 0.5151515151515151], ['CAG', 1.0], ['ATT', 0.49], ['ATC', 0.7959183673469388], ['ATA', 0.22448979591836735], ['ATG', 1.0], ['AAT', 0.9607843137254901], ['AAC', 1.0], ['AAA', 1.0], ['AAG', 0.35135135135135137], ['GTT', 0.8000000000000002], ['GTC', 0.5714285714285715], ['GTA', 0.48571428571428577], ['GTG', 1.0], ['GAT', 1.0], ['GAC', 0.5873015873015873], ['GAA', 1.0], ['GAG', 0.47058823529411764], ['TCT', 0.68], ['TCC', 0.6], ['TCA', 0.56], ['TCG', 0.56], ['TGT', 0.8518518518518519], ['TGC', 1.0], ['TGA', 0.4918032786885246], ['TGG', 1.0], ['CCT', 0.3673469387755102], ['CCC', 0.2653061224489796], ['CCA', 0.40816326530612246], ['CCG', 1.0], ['CGT', 1.0], ['CGC', 1.0], ['CGA', 0.19444444444444448], ['CGG', 0.3055555555555556], ['ACT', 0.475], ['ACC', 1.0], ['ACA', 0.425], ['ACG', 0.625], ['AGT', 0.64], ['AGC', 1.0], ['AGA', 0.19444444444444448], ['AGG', 0.11111111111111112], ['GCT', 0.5454545454545454], ['GCC', 0.7878787878787878], ['GCA', 0.696969696969697], ['GCG', 1.0], ['GGT', 0.9459459459459459], ['GGC', 1.0], ['GGA', 0.35135135135135137], ['GGG', 0.4054054054054054]]\n"
     ]
    }
   ],
   "source": [
    "import pandas as pd \n",
    "# read by default 1st sheet of an excel file\n",
    "dataframe1 = pd.read_excel(r\"C:\\Users\\husay\\OneDrive\\Desktop\\Biotech\\adaptation_index.xlsx\")\n",
    "codon_list=dataframe1.values.tolist()#convert pamdas database to list\n",
    "print(codon_list)"
   ]
  },
  {
   "cell_type": "code",
   "execution_count": 48,
   "id": "c1b61bd3",
   "metadata": {},
   "outputs": [
    {
     "name": "stdout",
     "output_type": "stream",
     "text": [
      "['ATG', 'CGC', 'GTA', 'CTG', 'GTT', 'GTT', 'GAA', 'GAC', 'AAT', 'GCG', 'TTG', 'TTA', 'CGT', 'CAC', 'CAC', 'CTT', 'AAA', 'GTT', 'CAG', 'ATT', 'CAG', 'GAT', 'GCT', 'GGT', 'CAT', 'CAG', 'GTC', 'GAT', 'GAC', 'GCA', 'GAA', 'GAT', 'GCC', 'AAA', 'GAA', 'GCC', 'GAT', 'TAT', 'TAT', 'CTC', 'AAT', 'GAA', 'CAT', 'ATA', 'CCG', 'GAT', 'ATT', 'GCG', 'ATT', 'GTC', 'GAT', 'CTC', 'GGA', 'TTG', 'CCA', 'GAC', 'GAG', 'GAC', 'GGT', 'CTG', 'TCA', 'CTG', 'ATT', 'CGC', 'CGC', 'TGG', 'CGT', 'AGC', 'AAC', 'GAT', 'GTT', 'TCA', 'CTG', 'CCG', 'ATT', 'CTG', 'GTA', 'TTA', 'ACC', 'GCC', 'CGT', 'GAA', 'AGC', 'TGG', 'CAG', 'GAC', 'AAA', 'GTC', 'GAA', 'GTA', 'TTA', 'AGT', 'GCC', 'GGT', 'GCT', 'GAT', 'GAT', 'TAT', 'GTG', 'ACT', 'AAA', 'CCG', 'TTT', 'CAT', 'ATT', 'GAA', 'GAG', 'GTG', 'ATG', 'GCG', 'CGA', 'ATG', 'CAG', 'GCA', 'TTA', 'ATG', 'CGG', 'CGT', 'AAT', 'AGC', 'GGT', 'CTG', 'GCT', 'TCA', 'CAG', 'GTC', 'ATT', 'TCG', 'CTC', 'CCC', 'CCG', 'TTT', 'CAG', 'GTT', 'GAT', 'CTC', 'TCT', 'CGC', 'CGT', 'GAA', 'TTA', 'TCT', 'ATT', 'AAT', 'GAC', 'GAA', 'GTG', 'ATC', 'AAA', 'CTG', 'ACC', 'GCG', 'TTC', 'GAA', 'TAC', 'ACT', 'ATT', 'ATG', 'GAA', 'ACG', 'TTG', 'ATA', 'CGC', 'AAT', 'AAT', 'GGC', 'AAA', 'GTG', 'GTC', 'AGC', 'AAA', 'GAT', 'TCG', 'TTA', 'ATG', 'CTC', 'CAA', 'CTC', 'TAT', 'CCG', 'GAT', 'GCG', 'GAG', 'CTG', 'CGG', 'GAA', 'AGC', 'CAT', 'ACC', 'ATT', 'GAT', 'GTA', 'CTG', 'ATG', 'GGA', 'CGT', 'CTG', 'CGC', 'AAA', 'AAA', 'ATT', 'CAG', 'GCA', 'CAA', 'TAT', 'CCC', 'CAA', 'GAA', 'GTG', 'ATT', 'ACC', 'ACC', 'GTT', 'CGC', 'GGC', 'CAG', 'GGC', 'TAT', 'CTG', 'TTC', 'GAA', 'TTG', 'CGC', 'TGA']\n",
      "224\n"
     ]
    }
   ],
   "source": [
    "codons=[] #gene seq partitioned into codons\n",
    "for i in range(0,len(phop_seq),3):\n",
    "    string=phop_seq[i:i+3:1]\n",
    "    codons.append(string)\n",
    "print(codons)\n",
    "print(len(codons))"
   ]
  },
  {
   "cell_type": "code",
   "execution_count": 47,
   "id": "84283bb0",
   "metadata": {},
   "outputs": [
    {
     "name": "stdout",
     "output_type": "stream",
     "text": [
      "[1.0, 1.0, 0.48571428571428577, 1.0, 0.8000000000000002, 0.8000000000000002, 1.0, 0.5873015873015873, 0.9607843137254901, 1.0, 0.2765957446808511, 0.29787234042553196, 1.0, 0.7543859649122807, 0.7543859649122807, 0.2553191489361702, 1.0, 0.8000000000000002, 1.0, 0.49, 1.0, 1.0, 0.5454545454545454, 0.9459459459459459, 1.0, 1.0, 0.5714285714285715, 1.0, 0.5873015873015873, 0.696969696969697, 1.0, 1.0, 0.7878787878787878, 1.0, 1.0, 0.7878787878787878, 1.0, 1.0, 1.0, 0.21276595744680854, 0.9607843137254901, 1.0, 1.0, 0.22448979591836735, 1.0, 1.0, 0.49, 1.0, 0.49, 0.5714285714285715, 1.0, 0.21276595744680854, 0.35135135135135137, 0.2765957446808511, 0.40816326530612246, 0.5873015873015873, 0.47058823529411764, 0.5873015873015873, 0.9459459459459459, 1.0, 0.56, 1.0, 0.49, 1.0, 1.0, 1.0, 1.0, 1.0, 1.0, 1.0, 0.8000000000000002, 0.56, 1.0, 1.0, 0.49, 1.0, 0.48571428571428577, 0.29787234042553196, 1.0, 0.7878787878787878, 1.0, 1.0, 1.0, 1.0, 1.0, 0.5873015873015873, 1.0, 0.5714285714285715, 1.0, 0.48571428571428577, 0.29787234042553196, 0.64, 0.7878787878787878, 0.9459459459459459, 0.5454545454545454, 1.0, 1.0, 1.0, 1.0, 0.475, 1.0, 1.0, 1.0, 1.0, 0.49, 1.0, 0.47058823529411764, 1.0, 1.0, 1.0, 0.19444444444444448, 1.0, 1.0, 0.696969696969697, 0.29787234042553196, 1.0, 0.3055555555555556, 1.0, 0.9607843137254901, 1.0, 0.9459459459459459, 1.0, 0.5454545454545454, 0.56, 1.0, 0.5714285714285715, 0.49, 0.56, 0.21276595744680854, 0.2653061224489796, 1.0, 1.0, 1.0, 0.8000000000000002, 1.0, 0.21276595744680854, 0.68, 1.0, 1.0, 1.0, 0.29787234042553196, 0.68, 0.49, 0.9607843137254901, 0.5873015873015873, 1.0, 1.0, 0.7959183673469388, 1.0, 1.0, 1.0, 1.0, 0.7241379310344828, 1.0, 0.6949152542372882, 0.475, 0.49, 1.0, 1.0, 0.625, 0.2765957446808511, 0.22448979591836735, 1.0, 0.9607843137254901, 0.9607843137254901, 1.0, 1.0, 1.0, 0.5714285714285715, 1.0, 1.0, 1.0, 0.56, 0.29787234042553196, 1.0, 0.21276595744680854, 0.5151515151515151, 0.21276595744680854, 1.0, 1.0, 1.0, 1.0, 0.47058823529411764, 1.0, 0.3055555555555556, 1.0, 1.0, 1.0, 1.0, 0.49, 1.0, 0.48571428571428577, 1.0, 1.0, 0.35135135135135137, 1.0, 1.0, 1.0, 1.0, 1.0, 0.49, 1.0, 0.696969696969697, 0.5151515151515151, 1.0, 0.2653061224489796, 0.5151515151515151, 1.0, 1.0, 0.49, 1.0, 1.0, 0.8000000000000002, 1.0, 1.0, 1.0, 1.0, 1.0, 1.0, 0.7241379310344828, 1.0, 0.2765957446808511, 1.0, 0.4918032786885246]\n",
      "224\n"
     ]
    }
   ],
   "source": [
    "cai=[] #cai value list\n",
    "for i in codons:\n",
    "    for j in codon_list:\n",
    "        if i==j[0] :\n",
    "            cai.append(j[1])\n",
    "print(cai)\n",
    "print(len(cai))"
   ]
  },
  {
   "cell_type": "code",
   "execution_count": null,
   "id": "f2a671a2",
   "metadata": {},
   "outputs": [],
   "source": []
  }
 ],
 "metadata": {
  "kernelspec": {
   "display_name": "Python 3 (ipykernel)",
   "language": "python",
   "name": "python3"
  },
  "language_info": {
   "codemirror_mode": {
    "name": "ipython",
    "version": 3
   },
   "file_extension": ".py",
   "mimetype": "text/x-python",
   "name": "python",
   "nbconvert_exporter": "python",
   "pygments_lexer": "ipython3",
   "version": "3.11.3"
  }
 },
 "nbformat": 4,
 "nbformat_minor": 5
}
