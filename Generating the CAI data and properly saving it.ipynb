{
 "cells": [
  {
   "cell_type": "markdown",
   "id": "4a9e0019",
   "metadata": {},
   "source": [
    "# General code for creating and saving the CAI data"
   ]
  },
  {
   "cell_type": "code",
   "execution_count": null,
   "id": "d0698ada",
   "metadata": {},
   "outputs": [],
   "source": [
    "#importing necessary libraries\n",
    "import os                   #to create new directories\n",
    "import shutil               #to delete directories\n",
    "import pandas as pd         #to convert excel data into dataframes into lists\n",
    "from Bio import SeqIO       #to read/write the fasta files\n",
    "from xlwt import Workbook   #to save excel files\n",
    "from matplotlib import pyplot as plt    #to plot graphs\n",
    "import numpy as np                      #to deal with arrays\n",
    "\n",
    "#getting list of all strains from folder\n",
    "list_strains= os.listdir(r\"C:\\Users\\husay\\Desktop\\Biotech\\Species_genomes\\Ecoli_strains\")\n",
    "\n",
    "# read by default 1st sheet of an excel file\n",
    "dataframe1 = pd.read_excel(r\"C:\\Users\\husay\\Desktop\\Biotech\\adaptation_index.xlsx\")\n",
    "# path to cai data excel sheet\n",
    "codon_list=dataframe1.values.tolist()#convert pandas database to list\n",
    "\n",
    "data_frame = pd.read_excel(r\"C:\\Users\\husay\\Desktop\\Biotech\\New_final_list.xlsx\")\n",
    "\n",
    "gene_list=data_frame.values.tolist()\n",
    "\n",
    "from openpyxl import load_workbook\n",
    "workbook = load_workbook(r\"C:\\Users\\husay\\Desktop\\Biotech\\New_final_list.xlsx\")\n",
    "sheet=workbook.active\n",
    "\n",
    "#function to search item in seq_record irrespective of case\n",
    "def search(p,t):\n",
    "   for classes in t:\n",
    "       if p.lower()==classes.lower():\n",
    "           return True\n",
    "   return False\n",
    "\n",
    "for gene in gene_list:\n",
    "    gene_index=gene_list.index(gene)\n",
    "    if gene_index<1743: continue\n",
    "    gene_name=gene[1]\n",
    "    protein_name=gene[9]\n",
    "    protein_type=gene[8]\n",
    "    count=0\n",
    "    print(gene_name, protein_name)\n",
    "    #looping the strains\n",
    "    for strain in list_strains:\n",
    "        gene=0;#to check whether gene is even present or not\n",
    "    \n",
    "        #below file paths can be changed\n",
    "        file_in =r'C:\\Users\\husay\\Desktop\\Biotech\\Species_genomes\\Ecoli_strains/'+ strain +'\\cds_from_genomic.fna'\n",
    "        #remove folders without cds file\n",
    "        if not os.path.exists(file_in):\n",
    "            shutil.rmtree(r'C:\\Users\\husay\\Desktop\\Biotech\\Species_genomes\\Ecoli_strains/'+ strain, ignore_errors=True)\n",
    "            continue\n",
    "    \n",
    "        filepath = os.path.join(r'C:\\Users\\husay\\Desktop\\Biotech\\Species_genomes\\Ecoli_strains/'+strain+'/'+gene_name+' ('+protein_type+')', gene_name+'.fna')\n",
    "        \n",
    "      #if gene present make fasta file ie f_out\n",
    "        for seq_record in SeqIO.parse(open(file_in,'r'), 'fasta'):\n",
    "            g=search('[gene='+gene_name+']',seq_record.description.split())\n",
    "            p=search('protein='+protein_name+'] ',seq_record.description.split('['))\n",
    "            #print(seq_record.description.split('['))\n",
    "            if g or p :\n",
    "                #print(g,p)\n",
    "                if not os.path.exists(r'C:\\Users\\husay\\Desktop\\Biotech\\Species_genomes\\Ecoli_strains/'+strain+'/'+gene_name+' ('+protein_type+')'):\n",
    "                    os.makedirs(r'C:\\Users\\husay\\Desktop\\Biotech\\Species_genomes\\Ecoli_strains/'+strain+'/'+gene_name+' ('+protein_type+')')\n",
    "                with open(filepath, 'w') as f_out:\n",
    "                    r=SeqIO.write(seq_record, f_out, 'fasta')\n",
    "                    if r!=1: print('Error while writing sequence:  ' + seq_record.id)\n",
    "                    gene=1;break;\n",
    "                    \n",
    "        if gene==0:\n",
    "            #print(\"Gene \"+gene_name+\" not found in strain \"+strain+\"\\n\\n\\n\\n\\n\")\n",
    "            continue;\n",
    "    \n",
    "        data=open(r'C:\\Users\\husay\\Desktop\\Biotech\\Species_genomes\\Ecoli_strains/'+strain+'/'+gene_name+' ('+protein_type+')'+'/'+gene_name+'.fna')\n",
    "        raw_seq= data.read() #open the fasta file and read the sequence\n",
    "        data.close()\n",
    "    \n",
    "        seq=raw_seq[raw_seq.find('ATG'):] #remove the first line of meta data\n",
    "        seq=seq.replace(\"\\n\",\"\")#replace unnecessary characters\n",
    "    \n",
    "        codons=[] #gene seq partitioned into codons\n",
    "        for i in range(0,len(seq),3):\n",
    "            string=seq[i:i+3:1]\n",
    "            codons.append(string)\n",
    "    \n",
    "        gene_length=len(codons)\n",
    "    \n",
    "        # Workbook is created\n",
    "        wb = Workbook()\n",
    "  \n",
    "        # add_sheet is used to create sheet.\n",
    "        sheet1 = wb.add_sheet('CAI values')\n",
    "        sheet1.write(0, 0, 'Strain')\n",
    "        sheet1.write(1, 0, strain)\n",
    "        sheet1.write(0, 1, 'CAI values')\n",
    "        sheet1.write(0, 2, 'mwf=15')\n",
    "        sheet1.write(0, 3, 'mwf=20')\n",
    "        sheet1.write(0, 4, 'mwf=25')\n",
    "    \n",
    "        cai=[] #cai value list\n",
    "        for i in codons:\n",
    "            for j in codon_list: #from excel sheet\n",
    "                if i==j[0] :\n",
    "                    cai.append(j[1])\n",
    "        for i in range(len(cai)):  \n",
    "            sheet1.write(i+1, 1, cai[i])\n",
    "            \n",
    "        count+=1   \n",
    "        for n in range (15,26,5):\n",
    "            #implementing moving window frame\n",
    "            mwf=[] #list containing moving window frame data\n",
    "            for i in range (n,len(cai)):\n",
    "                pdt=1\n",
    "                for j in range (n):\n",
    "                    pdt*=cai[i-j]       \n",
    "                mwf.append(pdt)\n",
    "        \n",
    "            for i in range(len(mwf)):\n",
    "                sheet1.write(i+1, int(n/5)-1, mwf[i])\n",
    "                \n",
    "        #saving values in excel sheet            \n",
    "        #wb.save('CAI Values ('+gene_name+') .xls')\n",
    "        if not os.path.exists(r\"C:\\Users\\husay\\Desktop\\Biotech\\Species_genomes\\Ecoli_strains/\"+strain+\"/\"+gene_name+' ('+protein_type+')'+\"/\"):\n",
    "            os.makedirs(r\"C:\\Users\\husay\\Desktop\\Biotech\\Species_genomes\\Ecoli_strains/\"+strain+\"/\"+gene_name+' ('+protein_type+')'+\"/\")\n",
    "        wb.save(r\"C:\\Users\\husay\\Desktop\\Biotech\\Species_genomes\\Ecoli_strains/\"+strain+\"/\"+gene_name+' ('+protein_type+')'+\"/CAI Values.xls\")\n",
    "\n",
    "    sheet[\"L\"+str(gene_index+2)]=count\n",
    "    if gene_index%100==0:\n",
    "        workbook.save(filename=r\"C:\\Users\\husay\\Desktop\\Biotech\\New_final_list.xlsx\")\n",
    "    #Count.append(count)"
   ]
  },
  {
   "cell_type": "code",
   "execution_count": null,
   "id": "5972092b",
   "metadata": {},
   "outputs": [],
   "source": [
    "import os\n",
    "import pandas as pd\n",
    "list_strains= os.listdir(r\"C:\\Users\\husay\\Desktop\\Biotech\\Species_genomes\\Ecoli_strains\")\n",
    "data_frame = pd.read_excel(r\"C:\\Users\\husay\\Desktop\\Biotech\\New_final_list.xlsx\")\n",
    "\n",
    "gene_list=data_frame.values.tolist()\n",
    "\n",
    "from openpyxl import load_workbook\n",
    "workbook = load_workbook(r\"C:\\Users\\husay\\Desktop\\Biotech\\New_final_list.xlsx\")\n",
    "sheet=workbook.active\n",
    "\n",
    "for gene in gene_list:\n",
    "    gene_index=gene_list.index(gene)\n",
    "    \n",
    "    file_name=gene[1]+' ('+gene[8]+')'\n",
    "    count=0\n",
    "    #print(gene_index)\n",
    "    #looping the strains\n",
    "    for strain in list_strains:\n",
    "        name_list=os.listdir(r\"C:\\Users\\husay\\Desktop\\Biotech\\Species_genomes\\Ecoli_strains/\"+strain)\n",
    "        if file_name in name_list:\n",
    "            count+=1\n",
    "    sheet[\"L\"+str(gene_index+2)]=count\n",
    "    if gene_index%100==0:\n",
    "        workbook.save(filename=r\"C:\\Users\\husay\\Desktop\\Biotech\\New_final_list.xlsx\")"
   ]
  },
  {
   "cell_type": "code",
   "execution_count": 5,
   "id": "88a89184",
   "metadata": {},
   "outputs": [],
   "source": [
    "workbook.save(filename=r\"C:\\Users\\husay\\Desktop\\Biotech\\New_final_list.xlsx\")\n",
    "#print(len(Count))"
   ]
  },
  {
   "cell_type": "code",
   "execution_count": 4,
   "id": "43f18120",
   "metadata": {},
   "outputs": [],
   "source": [
    "from openpyxl import load_workbook\n",
    "workbook = load_workbook(r\"C:\\Users\\husay\\Desktop\\Biotech\\New_final_list.xlsx\")\n",
    "sheet=workbook.active\n",
    "for i in range(len(Count)):\n",
    "    sheet[\"L\"+str(404+i)]=Count[i]\n",
    "workbook.save(filename=r\"C:\\Users\\husay\\Desktop\\Biotech\\New_final_list.xlsx\")"
   ]
  },
  {
   "cell_type": "markdown",
   "id": "679142dd",
   "metadata": {},
   "source": [
    "Reading from excel sheet"
   ]
  },
  {
   "cell_type": "code",
   "execution_count": 3,
   "id": "594df195",
   "metadata": {},
   "outputs": [
    {
     "name": "stdout",
     "output_type": "stream",
     "text": [
      "0       rfbC\n",
      "1       yehE\n",
      "2        tmk\n",
      "3       yadG\n",
      "4       sthA\n",
      "        ... \n",
      "4759    fdoH\n",
      "4760    yfiM\n",
      "4761    guaB\n",
      "4762    uxuA\n",
      "4763    ariR\n",
      "Name: Gene Name, Length: 4764, dtype: object\n"
     ]
    }
   ],
   "source": [
    "dataframe = pd.read_excel(r\"C:\\Users\\husay\\Desktop\\Biotech\\List of Genes (E.coli K-12 substr. MG1655).xlsx\")\n",
    "print(dataframe[\"Gene Name\"])"
   ]
  },
  {
   "cell_type": "code",
   "execution_count": 6,
   "id": "6bd1594a",
   "metadata": {},
   "outputs": [
    {
     "name": "stdout",
     "output_type": "stream",
     "text": [
      "yehE\n"
     ]
    }
   ],
   "source": [
    "gene_list=dataframe.values.tolist()\n",
    "print(gene_list[1][0])\n",
    "#first index is row, second index is column"
   ]
  }
 ],
 "metadata": {
  "kernelspec": {
   "display_name": "Python 3 (ipykernel)",
   "language": "python",
   "name": "python3"
  },
  "language_info": {
   "codemirror_mode": {
    "name": "ipython",
    "version": 3
   },
   "file_extension": ".py",
   "mimetype": "text/x-python",
   "name": "python",
   "nbconvert_exporter": "python",
   "pygments_lexer": "ipython3",
   "version": "3.11.3"
  }
 },
 "nbformat": 4,
 "nbformat_minor": 5
}
